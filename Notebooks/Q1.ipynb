{
  "nbformat": 4,
  "nbformat_minor": 0,
  "metadata": {
    "colab": {
      "name": "Q1.ipynb",
      "provenance": []
    },
    "kernelspec": {
      "name": "python3",
      "display_name": "Python 3"
    },
    "language_info": {
      "name": "python"
    }
  },
  "cells": [
    {
      "cell_type": "code",
      "metadata": {
        "id": "3hYTL18ZKbYf"
      },
      "source": [
        "import pandas as pd\n",
        "import numpy as np"
      ],
      "execution_count": 1,
      "outputs": []
    },
    {
      "cell_type": "markdown",
      "metadata": {
        "id": "KhulghGHKidR"
      },
      "source": [
        "# Import data"
      ]
    },
    {
      "cell_type": "code",
      "metadata": {
        "colab": {
          "base_uri": "https://localhost:8080/",
          "height": 580
        },
        "id": "Eg6Xd6pAKhUv",
        "outputId": "06a34cea-630e-44b8-9a20-4893c1334d97"
      },
      "source": [
        "dataset = pd.read_csv(\"train.csv\")\n",
        "dataset"
      ],
      "execution_count": 2,
      "outputs": [
        {
          "output_type": "execute_result",
          "data": {
            "text/html": [
              "<div>\n",
              "<style scoped>\n",
              "    .dataframe tbody tr th:only-of-type {\n",
              "        vertical-align: middle;\n",
              "    }\n",
              "\n",
              "    .dataframe tbody tr th {\n",
              "        vertical-align: top;\n",
              "    }\n",
              "\n",
              "    .dataframe thead th {\n",
              "        text-align: right;\n",
              "    }\n",
              "</style>\n",
              "<table border=\"1\" class=\"dataframe\">\n",
              "  <thead>\n",
              "    <tr style=\"text-align: right;\">\n",
              "      <th></th>\n",
              "      <th>matchId</th>\n",
              "      <th>playerId</th>\n",
              "      <th>playType</th>\n",
              "      <th>bodyPart</th>\n",
              "      <th>x</th>\n",
              "      <th>y</th>\n",
              "      <th>interveningOpponents</th>\n",
              "      <th>interveningTeammates</th>\n",
              "      <th>interferenceOnShooter</th>\n",
              "      <th>minute</th>\n",
              "      <th>second</th>\n",
              "      <th>outcome</th>\n",
              "    </tr>\n",
              "  </thead>\n",
              "  <tbody>\n",
              "    <tr>\n",
              "      <th>0</th>\n",
              "      <td>m_91</td>\n",
              "      <td>p_103</td>\n",
              "      <td>جریان بازی</td>\n",
              "      <td>پای راست</td>\n",
              "      <td>13.47</td>\n",
              "      <td>-11.22</td>\n",
              "      <td>1</td>\n",
              "      <td>0</td>\n",
              "      <td>متوسط</td>\n",
              "      <td>70</td>\n",
              "      <td>9</td>\n",
              "      <td>گُل</td>\n",
              "    </tr>\n",
              "    <tr>\n",
              "      <th>1</th>\n",
              "      <td>m_17</td>\n",
              "      <td>p_16</td>\n",
              "      <td>جریان بازی</td>\n",
              "      <td>پای چپ</td>\n",
              "      <td>9.48</td>\n",
              "      <td>14.22</td>\n",
              "      <td>3</td>\n",
              "      <td>0</td>\n",
              "      <td>متوسط</td>\n",
              "      <td>55</td>\n",
              "      <td>4</td>\n",
              "      <td>مهار توسط دروازه بان</td>\n",
              "    </tr>\n",
              "    <tr>\n",
              "      <th>2</th>\n",
              "      <td>m_111</td>\n",
              "      <td>p_88</td>\n",
              "      <td>ضربه آزاد مستقیم</td>\n",
              "      <td>پای چپ</td>\n",
              "      <td>29.43</td>\n",
              "      <td>-1.25</td>\n",
              "      <td>6</td>\n",
              "      <td>2</td>\n",
              "      <td>کم</td>\n",
              "      <td>86</td>\n",
              "      <td>31</td>\n",
              "      <td>مهار توسط دروازه بان</td>\n",
              "    </tr>\n",
              "    <tr>\n",
              "      <th>3</th>\n",
              "      <td>m_142</td>\n",
              "      <td>p_87</td>\n",
              "      <td>جریان بازی</td>\n",
              "      <td>پای راست</td>\n",
              "      <td>26.93</td>\n",
              "      <td>1.00</td>\n",
              "      <td>4</td>\n",
              "      <td>1</td>\n",
              "      <td>متوسط</td>\n",
              "      <td>77</td>\n",
              "      <td>2</td>\n",
              "      <td>موقعیت از دست رفته</td>\n",
              "    </tr>\n",
              "    <tr>\n",
              "      <th>4</th>\n",
              "      <td>m_117</td>\n",
              "      <td>p_9</td>\n",
              "      <td>جریان بازی</td>\n",
              "      <td>پای راست</td>\n",
              "      <td>10.72</td>\n",
              "      <td>5.24</td>\n",
              "      <td>2</td>\n",
              "      <td>0</td>\n",
              "      <td>متوسط</td>\n",
              "      <td>76</td>\n",
              "      <td>46</td>\n",
              "      <td>گُل</td>\n",
              "    </tr>\n",
              "    <tr>\n",
              "      <th>...</th>\n",
              "      <td>...</td>\n",
              "      <td>...</td>\n",
              "      <td>...</td>\n",
              "      <td>...</td>\n",
              "      <td>...</td>\n",
              "      <td>...</td>\n",
              "      <td>...</td>\n",
              "      <td>...</td>\n",
              "      <td>...</td>\n",
              "      <td>...</td>\n",
              "      <td>...</td>\n",
              "      <td>...</td>\n",
              "    </tr>\n",
              "    <tr>\n",
              "      <th>8920</th>\n",
              "      <td>m_57</td>\n",
              "      <td>p_115</td>\n",
              "      <td>جریان بازی</td>\n",
              "      <td>سر</td>\n",
              "      <td>6.48</td>\n",
              "      <td>3.99</td>\n",
              "      <td>3</td>\n",
              "      <td>0</td>\n",
              "      <td>زیاد</td>\n",
              "      <td>69</td>\n",
              "      <td>50</td>\n",
              "      <td>موقعیت از دست رفته</td>\n",
              "    </tr>\n",
              "    <tr>\n",
              "      <th>8921</th>\n",
              "      <td>m_59</td>\n",
              "      <td>p_76</td>\n",
              "      <td>جریان بازی</td>\n",
              "      <td>پای راست</td>\n",
              "      <td>21.45</td>\n",
              "      <td>-8.73</td>\n",
              "      <td>4</td>\n",
              "      <td>1</td>\n",
              "      <td>متوسط</td>\n",
              "      <td>15</td>\n",
              "      <td>53</td>\n",
              "      <td>برخورد به دفاع</td>\n",
              "    </tr>\n",
              "    <tr>\n",
              "      <th>8922</th>\n",
              "      <td>m_55</td>\n",
              "      <td>p_150</td>\n",
              "      <td>جریان بازی</td>\n",
              "      <td>پای چپ</td>\n",
              "      <td>11.97</td>\n",
              "      <td>3.24</td>\n",
              "      <td>3</td>\n",
              "      <td>0</td>\n",
              "      <td>متوسط</td>\n",
              "      <td>84</td>\n",
              "      <td>34</td>\n",
              "      <td>موقعیت از دست رفته</td>\n",
              "    </tr>\n",
              "    <tr>\n",
              "      <th>8923</th>\n",
              "      <td>m_33</td>\n",
              "      <td>p_130</td>\n",
              "      <td>جریان بازی</td>\n",
              "      <td>پای راست</td>\n",
              "      <td>6.48</td>\n",
              "      <td>-6.98</td>\n",
              "      <td>1</td>\n",
              "      <td>0</td>\n",
              "      <td>زیاد</td>\n",
              "      <td>4</td>\n",
              "      <td>39</td>\n",
              "      <td>موقعیت از دست رفته</td>\n",
              "    </tr>\n",
              "    <tr>\n",
              "      <th>8924</th>\n",
              "      <td>m_142</td>\n",
              "      <td>p_37</td>\n",
              "      <td>جریان بازی</td>\n",
              "      <td>پای راست</td>\n",
              "      <td>8.23</td>\n",
              "      <td>26.43</td>\n",
              "      <td>2</td>\n",
              "      <td>0</td>\n",
              "      <td>متوسط</td>\n",
              "      <td>72</td>\n",
              "      <td>17</td>\n",
              "      <td>مهار توسط دروازه بان</td>\n",
              "    </tr>\n",
              "  </tbody>\n",
              "</table>\n",
              "<p>8925 rows × 12 columns</p>\n",
              "</div>"
            ],
            "text/plain": [
              "     matchId playerId          playType  ... minute  second               outcome\n",
              "0       m_91    p_103        جریان بازی  ...     70       9                   گُل\n",
              "1       m_17     p_16        جریان بازی  ...     55       4  مهار توسط دروازه بان\n",
              "2      m_111     p_88  ضربه آزاد مستقیم  ...     86      31  مهار توسط دروازه بان\n",
              "3      m_142     p_87        جریان بازی  ...     77       2    موقعیت از دست رفته\n",
              "4      m_117      p_9        جریان بازی  ...     76      46                   گُل\n",
              "...      ...      ...               ...  ...    ...     ...                   ...\n",
              "8920    m_57    p_115        جریان بازی  ...     69      50    موقعیت از دست رفته\n",
              "8921    m_59     p_76        جریان بازی  ...     15      53        برخورد به دفاع\n",
              "8922    m_55    p_150        جریان بازی  ...     84      34    موقعیت از دست رفته\n",
              "8923    m_33    p_130        جریان بازی  ...      4      39    موقعیت از دست رفته\n",
              "8924   m_142     p_37        جریان بازی  ...     72      17  مهار توسط دروازه بان\n",
              "\n",
              "[8925 rows x 12 columns]"
            ]
          },
          "metadata": {},
          "execution_count": 2
        }
      ]
    },
    {
      "cell_type": "markdown",
      "metadata": {
        "id": "plpo33dQXR_E"
      },
      "source": [
        "# Question 1\n",
        "### number of unique players in dataset"
      ]
    },
    {
      "cell_type": "code",
      "metadata": {
        "colab": {
          "base_uri": "https://localhost:8080/"
        },
        "id": "XPoCmDWhXRnN",
        "outputId": "705f0ef9-6254-4fe2-c785-d5312de90caf"
      },
      "source": [
        "dataset['playerId'].unique().shape[0]"
      ],
      "execution_count": 7,
      "outputs": [
        {
          "output_type": "execute_result",
          "data": {
            "text/plain": [
              "160"
            ]
          },
          "metadata": {},
          "execution_count": 7
        }
      ]
    },
    {
      "cell_type": "markdown",
      "metadata": {
        "id": "DtsO4QkeXzm_"
      },
      "source": [
        "# Question 2\n",
        "### Which player has the most number of goals?"
      ]
    },
    {
      "cell_type": "code",
      "metadata": {
        "colab": {
          "base_uri": "https://localhost:8080/",
          "height": 34
        },
        "id": "0a_7oWEnYF2r",
        "outputId": "b5702fc8-6ff8-48f3-9c1e-4782dc958184"
      },
      "source": [
        "dataset[dataset['outcome'] == \"گُل\"].groupby('playerId').size().idxmax()"
      ],
      "execution_count": 18,
      "outputs": [
        {
          "output_type": "execute_result",
          "data": {
            "application/vnd.google.colaboratory.intrinsic+json": {
              "type": "string"
            },
            "text/plain": [
              "'p_18'"
            ]
          },
          "metadata": {},
          "execution_count": 18
        }
      ]
    },
    {
      "cell_type": "markdown",
      "metadata": {
        "id": "yyVLQZqcY6sl"
      },
      "source": [
        "# Question 3\n",
        "### Which players have the best and the worst goal/shoot ratio?"
      ]
    },
    {
      "cell_type": "code",
      "metadata": {
        "colab": {
          "base_uri": "https://localhost:8080/"
        },
        "id": "3jjtOAY3ZAxx",
        "outputId": "4c13fab8-1740-439b-c3c1-a7f625215545"
      },
      "source": [
        "goals = dataset[dataset['outcome'] == \"گُل\"].groupby('playerId').size()\n",
        "shoots = dataset.groupby('playerId').size()\n",
        "df = shoots/goals\n",
        "print(df.idxmax())\n",
        "print(df.idxmin())"
      ],
      "execution_count": 24,
      "outputs": [
        {
          "output_type": "stream",
          "name": "stdout",
          "text": [
            "p_147\n",
            "p_18\n"
          ]
        }
      ]
    },
    {
      "cell_type": "markdown",
      "metadata": {
        "id": "kF0NcQMcZzBu"
      },
      "source": [
        "# Question 4\n",
        "### The farthest shoot based on euclidian distance"
      ]
    },
    {
      "cell_type": "code",
      "metadata": {
        "colab": {
          "base_uri": "https://localhost:8080/"
        },
        "id": "BFfBcax8Z7M5",
        "outputId": "87acad20-08fa-4eee-a85f-833889d9cf54"
      },
      "source": [
        "np.floor(np.sqrt(dataset['x']**2 + dataset['y']**2).max())"
      ],
      "execution_count": 30,
      "outputs": [
        {
          "output_type": "execute_result",
          "data": {
            "text/plain": [
              "71.0"
            ]
          },
          "metadata": {},
          "execution_count": 30
        }
      ]
    }
  ]
}